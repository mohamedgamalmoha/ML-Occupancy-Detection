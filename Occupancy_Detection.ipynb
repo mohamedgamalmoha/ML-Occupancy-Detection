{
 "nbformat": 4,
 "nbformat_minor": 0,
 "metadata": {
  "colab": {
   "provenance": []
  },
  "kernelspec": {
   "name": "python3",
   "display_name": "Python 3"
  },
  "language_info": {
   "name": "python"
  }
 },
 "cells": [
  {
   "cell_type": "markdown",
   "source": [
    "#Importing Libraies"
   ],
   "metadata": {
    "id": "HbPJD0qi1O-N"
   }
  },
  {
   "cell_type": "code",
   "execution_count": null,
   "outputs": [],
   "source": [
    "import numpy as np\n",
    "import pandas as pd\n",
    "import seaborn as sns\n",
    "import matplotlib.pyplot as plt\n",
    "from sklearn.svm import LinearSVC\n",
    "from sklearn.naive_bayes import GaussianNB\n",
    "from sklearn.preprocessing import StandardScaler\n",
    "from sklearn.linear_model import LogisticRegression\n",
    "from sklearn.model_selection import train_test_split\n",
    "from sklearn.metrics import confusion_matrix, accuracy_score, classification_report, roc_curve, roc_auc_score"
   ],
   "metadata": {
    "collapsed": false,
    "pycharm": {
     "name": "#%%\n"
    }
   }
  },
  {
   "cell_type": "code",
   "execution_count": null,
   "outputs": [],
   "source": [
    "import warnings\n",
    "warnings.filterwarnings('ignore')"
   ],
   "metadata": {
    "collapsed": false,
    "pycharm": {
     "name": "#%%\n"
    }
   }
  },
  {
   "cell_type": "markdown",
   "source": [
    "#Data Reading "
   ],
   "metadata": {
    "collapsed": false,
    "pycharm": {
     "name": "#%% md\n"
    }
   }
  },
  {
   "cell_type": "code",
   "execution_count": null,
   "outputs": [],
   "source": [
    "data = pd.read_csv('datatraining.txt', error_bad_lines=False)\n",
    "data_test_1 = pd.read_csv('datatest1.txt', error_bad_lines=False)\n",
    "data_test_2 = pd.read_csv('datatest2.txt', error_bad_lines=False)"
   ],
   "metadata": {
    "collapsed": false,
    "pycharm": {
     "name": "#%%\n"
    }
   }
  },
  {
   "cell_type": "markdown",
   "source": [
    "#Data Nature"
   ],
   "metadata": {
    "collapsed": false,
    "pycharm": {
     "name": "#%% md\n"
    }
   }
  },
  {
   "cell_type": "markdown",
   "source": [
    "**Number of (rows, columns)**"
   ],
   "metadata": {
    "collapsed": false,
    "pycharm": {
     "name": "#%% md\n"
    }
   }
  },
  {
   "cell_type": "code",
   "execution_count": null,
   "outputs": [],
   "source": [
    "data.shape"
   ],
   "metadata": {
    "collapsed": false,
    "pycharm": {
     "name": "#%%\n"
    }
   }
  },
  {
   "cell_type": "code",
   "execution_count": null,
   "outputs": [],
   "source": [
    "data_test_1.shape"
   ],
   "metadata": {
    "collapsed": false,
    "pycharm": {
     "name": "#%%\n"
    }
   }
  },
  {
   "cell_type": "code",
   "execution_count": null,
   "outputs": [],
   "source": [
    "data_test_2.shape"
   ],
   "metadata": {
    "collapsed": false,
    "pycharm": {
     "name": "#%%\n"
    }
   }
  },
  {
   "cell_type": "markdown",
   "source": [
    "**Snippets form data**"
   ],
   "metadata": {
    "collapsed": false,
    "pycharm": {
     "name": "#%% md\n"
    }
   }
  },
  {
   "cell_type": "code",
   "execution_count": null,
   "outputs": [],
   "source": [
    "data.head()"
   ],
   "metadata": {
    "collapsed": false,
    "pycharm": {
     "name": "#%%\n"
    }
   }
  },
  {
   "cell_type": "markdown",
   "source": [
    "**Data information**"
   ],
   "metadata": {
    "collapsed": false,
    "pycharm": {
     "name": "#%% md\n"
    }
   }
  },
  {
   "cell_type": "code",
   "execution_count": null,
   "outputs": [],
   "source": [
    "data.info()"
   ],
   "metadata": {
    "collapsed": false,
    "pycharm": {
     "name": "#%%\n"
    }
   }
  },
  {
   "cell_type": "markdown",
   "source": [
    "**Data statistics**"
   ],
   "metadata": {
    "collapsed": false,
    "pycharm": {
     "name": "#%% md\n"
    }
   }
  },
  {
   "cell_type": "code",
   "execution_count": null,
   "outputs": [],
   "source": [
    "data.describe()"
   ],
   "metadata": {
    "collapsed": false,
    "pycharm": {
     "name": "#%%\n"
    }
   }
  },
  {
   "cell_type": "markdown",
   "source": [
    "**Count valuew of Occupancy**"
   ],
   "metadata": {
    "collapsed": false,
    "pycharm": {
     "name": "#%% md\n"
    }
   }
  },
  {
   "cell_type": "code",
   "execution_count": null,
   "outputs": [],
   "source": [
    "data['Occupancy'].value_counts()"
   ],
   "metadata": {
    "collapsed": false,
    "pycharm": {
     "name": "#%%\n"
    }
   }
  },
  {
   "cell_type": "code",
   "execution_count": null,
   "outputs": [],
   "source": [
    "data_test_1['Occupancy'].value_counts()"
   ],
   "metadata": {
    "collapsed": false,
    "pycharm": {
     "name": "#%%\n"
    }
   }
  },
  {
   "cell_type": "code",
   "execution_count": null,
   "outputs": [],
   "source": [
    "data_test_2['Occupancy'].value_counts()"
   ],
   "metadata": {
    "collapsed": false,
    "pycharm": {
     "name": "#%%\n"
    }
   }
  },
  {
   "cell_type": "markdown",
   "source": [
    "**Drop column date**"
   ],
   "metadata": {
    "collapsed": false,
    "pycharm": {
     "name": "#%% md\n"
    }
   }
  },
  {
   "cell_type": "code",
   "execution_count": null,
   "outputs": [],
   "source": [
    "data.drop('date', axis=1, inplace=True)\n",
    "data_test_1.drop('date', axis=1, inplace=True)\n",
    "data_test_2.drop('date', axis=1, inplace=True)"
   ],
   "metadata": {
    "collapsed": false,
    "pycharm": {
     "name": "#%%\n"
    }
   }
  },
  {
   "cell_type": "markdown",
   "source": [
    "#Data Distribution"
   ],
   "metadata": {
    "collapsed": false,
    "pycharm": {
     "name": "#%% md\n"
    }
   }
  },
  {
   "cell_type": "code",
   "execution_count": null,
   "outputs": [],
   "source": [
    "plt.figure(figsize=(20,7))\n",
    "sns.countplot(x=data['Temperature'])\n",
    "plt.title('Distribution Plot for Temperature')\n",
    "plt.xlabel('Temperature')\n",
    "plt.ylabel('Count')\n",
    "plt.savefig('Distribution Plot for Temperature.png')\n",
    "plt.show()"
   ],
   "metadata": {
    "collapsed": false,
    "pycharm": {
     "name": "#%%\n"
    }
   }
  },
  {
   "cell_type": "code",
   "execution_count": null,
   "outputs": [],
   "source": [
    "plt.figure(figsize=(20,7))\n",
    "sns.countplot(x=data['Humidity'])\n",
    "plt.title('Distribution Plot for Humidity')\n",
    "plt.xlabel('Humidity')\n",
    "plt.ylabel('Count')\n",
    "plt.savefig('Distribution Plot for Humidity.png')\n",
    "plt.show()"
   ],
   "metadata": {
    "collapsed": false,
    "pycharm": {
     "name": "#%%\n"
    }
   }
  },
  {
   "cell_type": "code",
   "execution_count": null,
   "outputs": [],
   "source": [
    "plt.figure(figsize=(20,7))\n",
    "sns.countplot(x=data['Light'])\n",
    "plt.ylim(0, 250)\n",
    "plt.title('Distribution Plot for Light')\n",
    "plt.xlabel('Light')\n",
    "plt.ylabel('Count')\n",
    "plt.savefig('Distribution Plot for Light.png')\n",
    "plt.show()"
   ],
   "metadata": {
    "collapsed": false,
    "pycharm": {
     "name": "#%%\n"
    }
   }
  },
  {
   "cell_type": "code",
   "execution_count": null,
   "outputs": [],
   "source": [
    "plt.figure(figsize=(20,7))\n",
    "sns.countplot(x=data['CO2'])\n",
    "plt.title('Distribution Plot for CO2')\n",
    "plt.xlabel('CO2')\n",
    "plt.ylabel('Count')\n",
    "plt.savefig('Distribution Plot for CO2.png')\n",
    "plt.show()"
   ],
   "metadata": {
    "collapsed": false,
    "pycharm": {
     "name": "#%%\n"
    }
   }
  },
  {
   "cell_type": "code",
   "execution_count": null,
   "outputs": [],
   "source": [
    "plt.figure(figsize=(20,7))\n",
    "sns.countplot(x=data['HumidityRatio'])\n",
    "plt.title('Distribution Plot for HumidityRatio')\n",
    "plt.xlabel('HumidityRatio')\n",
    "plt.ylabel('Count')\n",
    "plt.savefig('Distribution Plot for HumidityRatio.png')\n",
    "plt.show()"
   ],
   "metadata": {
    "collapsed": false,
    "pycharm": {
     "name": "#%%\n"
    }
   }
  },
  {
   "cell_type": "code",
   "execution_count": null,
   "outputs": [],
   "source": [
    "plt.figure(figsize=(20,7))\n",
    "sns.countplot(x=data['Occupancy'])\n",
    "plt.title('Distribution Plot for Occupancy')\n",
    "plt.xlabel('Occupancy')\n",
    "plt.ylabel('Count')\n",
    "plt.savefig('Distribution Plot for Occupancy.png')\n",
    "plt.show()"
   ],
   "metadata": {
    "collapsed": false,
    "pycharm": {
     "name": "#%%\n"
    }
   }
  },
  {
   "cell_type": "markdown",
   "source": [
    "**Heatmap of correlation**"
   ],
   "metadata": {
    "collapsed": false,
    "pycharm": {
     "name": "#%% md\n"
    }
   }
  },
  {
   "cell_type": "code",
   "execution_count": null,
   "outputs": [],
   "source": [
    "plt.figure(figsize=(10,7))\n",
    "plt.title('Correlation Table for Features', fontdict={'fontsize':18})\n",
    "ax = sns.heatmap(data.corr(), annot=True, linewidths=.2)\n",
    "plt.savefig('Correlation Table for Feature.png')"
   ],
   "metadata": {
    "collapsed": false,
    "pycharm": {
     "name": "#%%\n"
    }
   }
  },
  {
   "cell_type": "markdown",
   "source": [
    "**Box Plot for Features**"
   ],
   "metadata": {
    "collapsed": false,
    "pycharm": {
     "name": "#%% md\n"
    }
   }
  },
  {
   "cell_type": "code",
   "execution_count": null,
   "outputs": [],
   "source": [
    "plt.figure(figsize=(20,7))\n",
    "plt.title('Box Plot for Features', fontdict={'fontsize':18})\n",
    "ax = sns.boxplot(data=data.drop(['Occupancy'], axis=1), orient=\"h\", palette=\"Set2\")\n",
    "plt.savefig('Box Plot for Features.png')"
   ],
   "metadata": {
    "collapsed": false,
    "pycharm": {
     "name": "#%%\n"
    }
   }
  },
  {
   "cell_type": "markdown",
   "source": [
    "#Data Scaling "
   ],
   "metadata": {
    "collapsed": false,
    "pycharm": {
     "name": "#%% md\n"
    }
   }
  },
  {
   "cell_type": "markdown",
   "source": [
    "**Scale data using Standard Scaler**"
   ],
   "metadata": {
    "collapsed": false,
    "pycharm": {
     "name": "#%% md\n"
    }
   }
  },
  {
   "cell_type": "code",
   "execution_count": null,
   "outputs": [],
   "source": [
    "scaler = StandardScaler()\n",
    "columns = ['Temperature', 'Humidity', 'Light', 'CO2', 'HumidityRatio']\n",
    "scaler.fit(np.array(data[columns]))\n",
    "\n",
    "data[columns] = scaler.transform(np.array(data[columns]))\n",
    "data_test_1[columns] = scaler.transform(np.array(data_test_1[columns]))\n",
    "data_test_2[columns] = scaler.transform(np.array(data_test_2[columns]))"
   ],
   "metadata": {
    "collapsed": false,
    "pycharm": {
     "name": "#%%\n"
    }
   }
  },
  {
   "cell_type": "markdown",
   "source": [
    "**Box Plot after Scaling**"
   ],
   "metadata": {
    "collapsed": false,
    "pycharm": {
     "name": "#%% md\n"
    }
   }
  },
  {
   "cell_type": "code",
   "execution_count": null,
   "outputs": [],
   "source": [
    "plt.figure(figsize=(20,7))\n",
    "plt.title('Box Plot for Features', fontdict={'fontsize':18})\n",
    "ax = sns.boxplot(data=data.drop(['Occupancy'], axis=1), orient=\"h\", palette=\"Set2\")\n",
    "plt.savefig('Box Plot for Features After scaling.png')"
   ],
   "metadata": {
    "collapsed": false,
    "pycharm": {
     "name": "#%%\n"
    }
   }
  },
  {
   "cell_type": "markdown",
   "source": [
    "#Data Preprocessing"
   ],
   "metadata": {
    "collapsed": false,
    "pycharm": {
     "name": "#%% md\n"
    }
   }
  },
  {
   "cell_type": "markdown",
   "source": [
    "**Spliting data into X, Y**"
   ],
   "metadata": {
    "collapsed": false,
    "pycharm": {
     "name": "#%% md\n"
    }
   }
  },
  {
   "cell_type": "code",
   "execution_count": null,
   "outputs": [],
   "source": [
    "y_values = data['Occupancy'].values\n",
    "x_values = data[['Temperature',\t'Humidity',\t'Light',\t'CO2',\t'HumidityRatio']].values"
   ],
   "metadata": {
    "collapsed": false,
    "pycharm": {
     "name": "#%%\n"
    }
   }
  },
  {
   "cell_type": "code",
   "execution_count": null,
   "outputs": [],
   "source": [
    "x_values.shape, y_values.shape"
   ],
   "metadata": {
    "collapsed": false,
    "pycharm": {
     "name": "#%%\n"
    }
   }
  },
  {
   "cell_type": "markdown",
   "source": [
    "**Spliting test data 1 & 2 into X,Y**"
   ],
   "metadata": {
    "collapsed": false,
    "pycharm": {
     "name": "#%% md\n"
    }
   }
  },
  {
   "cell_type": "code",
   "execution_count": null,
   "outputs": [],
   "source": [
    "y_test_1 = data_test_1['Occupancy'].values\n",
    "x_test_1 = data_test_1[['Temperature',\t'Humidity',\t'Light',\t'CO2',\t'HumidityRatio']].values\n",
    "\n",
    "y_test_2 = data_test_2['Occupancy'].values\n",
    "x_test_2 = data_test_2[['Temperature',\t'Humidity',\t'Light',\t'CO2',\t'HumidityRatio']].values"
   ],
   "metadata": {
    "collapsed": false,
    "pycharm": {
     "name": "#%%\n"
    }
   }
  },
  {
   "cell_type": "code",
   "execution_count": null,
   "outputs": [],
   "source": [
    "y_test_1.shape, x_test_1.shape"
   ],
   "metadata": {
    "collapsed": false,
    "pycharm": {
     "name": "#%%\n"
    }
   }
  },
  {
   "cell_type": "code",
   "execution_count": null,
   "outputs": [],
   "source": [
    "y_test_2.shape, x_test_2.shape"
   ],
   "metadata": {
    "collapsed": false,
    "pycharm": {
     "name": "#%%\n"
    }
   }
  },
  {
   "cell_type": "markdown",
   "source": [
    "**Split data into train & test data**"
   ],
   "metadata": {
    "collapsed": false,
    "pycharm": {
     "name": "#%% md\n"
    }
   }
  },
  {
   "cell_type": "code",
   "execution_count": null,
   "outputs": [],
   "source": [
    "x_train, x_test, y_train, y_test = train_test_split(x_values, y_values, test_size=0.3, random_state=40)"
   ],
   "metadata": {
    "collapsed": false,
    "pycharm": {
     "name": "#%%\n"
    }
   }
  },
  {
   "cell_type": "code",
   "execution_count": null,
   "outputs": [],
   "source": [
    "x_train.shape, y_train.shape"
   ],
   "metadata": {
    "collapsed": false,
    "pycharm": {
     "name": "#%%\n"
    }
   }
  },
  {
   "cell_type": "code",
   "execution_count": null,
   "outputs": [],
   "source": [
    "x_test.shape, y_test.shape"
   ],
   "metadata": {
    "collapsed": false,
    "pycharm": {
     "name": "#%%\n"
    }
   }
  },
  {
   "cell_type": "markdown",
   "source": [
    "#Logistic Regression Algorithm"
   ],
   "metadata": {
    "collapsed": false,
    "pycharm": {
     "name": "#%% md\n"
    }
   }
  },
  {
   "cell_type": "code",
   "execution_count": null,
   "outputs": [],
   "source": [
    "LR_Model = LogisticRegression(penalty='l2', dual=False, tol=1e-4, C=1, fit_intercept=True, intercept_scaling=1, class_weight=None, random_state=None, \n",
    "                           solver='lbfgs', max_iter=100, multi_class='auto', verbose=0, warm_start=False, n_jobs=None, l1_ratio=None)\n",
    "LR_Model = LR_Model.fit(x_train, y_train)"
   ],
   "metadata": {
    "collapsed": false,
    "pycharm": {
     "name": "#%%\n"
    }
   }
  },
  {
   "cell_type": "code",
   "execution_count": null,
   "outputs": [],
   "source": [
    "lr_y_pred   = LR_Model.predict(x_test)\n",
    "lr_y_pred_1 = LR_Model.predict(x_test_1)\n",
    "lr_y_pred_2 = LR_Model.predict(x_test_2)"
   ],
   "metadata": {
    "collapsed": false,
    "pycharm": {
     "name": "#%%\n"
    }
   }
  },
  {
   "cell_type": "code",
   "execution_count": null,
   "outputs": [],
   "source": [
    "print('---------------------------------------------------------------------------------------')\n",
    "print(\"{:20}\\t|\\t{:20}\\t|\\t{:20}\".format('Original', 'Test 1', 'Test 2'))\n",
    "print('---------------------------------------------------------------------------------------')\n",
    "print(\"{:>15}\\t|\\t{:>15}\\t|\\t{:>15}\".format(\n",
    "    accuracy_score(y_test, lr_y_pred)*100, \n",
    "    accuracy_score(y_test_1, lr_y_pred_1)*100, \n",
    "    accuracy_score(y_test_2, lr_y_pred_2)*100)\n",
    ")\n",
    "print('---------------------------------------------------------------------------------------')"
   ],
   "metadata": {
    "collapsed": false,
    "pycharm": {
     "name": "#%%\n"
    }
   }
  },
  {
   "cell_type": "code",
   "execution_count": null,
   "outputs": [],
   "source": [
    "print(classification_report(y_test, lr_y_pred))"
   ],
   "metadata": {
    "collapsed": false,
    "pycharm": {
     "name": "#%%\n"
    }
   }
  },
  {
   "cell_type": "code",
   "execution_count": null,
   "outputs": [],
   "source": [
    "print(classification_report(y_test_1, lr_y_pred_1))"
   ],
   "metadata": {
    "collapsed": false,
    "pycharm": {
     "name": "#%%\n"
    }
   }
  },
  {
   "cell_type": "code",
   "execution_count": null,
   "outputs": [],
   "source": [
    "print(classification_report(y_test_2, lr_y_pred_2))"
   ],
   "metadata": {
    "collapsed": false,
    "pycharm": {
     "name": "#%%\n"
    }
   }
  },
  {
   "cell_type": "code",
   "execution_count": null,
   "outputs": [],
   "source": [
    "plt.figure(figsize=(20,10))\n",
    "sns.heatmap(confusion_matrix(y_test, lr_y_pred), annot=True, cmap='Oranges', fmt=\"d\")\n",
    "plt.title('Confusion Matrix of Data')\n",
    "plt.savefig('Confusion Matrix of Data Logistic Regression.png')\n",
    "plt.show()"
   ],
   "metadata": {
    "collapsed": false,
    "pycharm": {
     "name": "#%%\n"
    }
   }
  },
  {
   "cell_type": "code",
   "execution_count": null,
   "outputs": [],
   "source": [
    "plt.figure(figsize=(20,10))\n",
    "sns.heatmap(confusion_matrix(y_test_1, lr_y_pred_1), annot=True, cmap='Reds', fmt=\"d\")\n",
    "plt.title('Confusion Matrix of Test 1')\n",
    "plt.savefig('Confusion Matrix of Test 1 Logistic Regression.png')\n",
    "plt.show()"
   ],
   "metadata": {
    "collapsed": false,
    "pycharm": {
     "name": "#%%\n"
    }
   }
  },
  {
   "cell_type": "code",
   "execution_count": null,
   "outputs": [],
   "source": [
    "plt.figure(figsize=(20,10))\n",
    "sns.heatmap(confusion_matrix(y_test_2, lr_y_pred_2), annot=True, cmap='Blues', fmt=\"d\")\n",
    "plt.title('Confusion Matrix of Test 2')\n",
    "plt.savefig('Confusion Matrix of Test 2 Logistic Regression.png')\n",
    "plt.show()"
   ],
   "metadata": {
    "collapsed": false,
    "pycharm": {
     "name": "#%%\n"
    }
   }
  },
  {
   "cell_type": "code",
   "execution_count": null,
   "outputs": [],
   "source": [
    "plt.figure(figsize=(20,10))\n",
    "\n",
    "y_pred_proba = LR_Model.predict(x_test)\n",
    "fpr, tpr, _ = roc_curve(y_test,  y_pred_proba)\n",
    "plt.plot(fpr, tpr, label=\"Data\")\n",
    "\n",
    "y_pred_proba_1 = LR_Model.predict(x_test_1)\n",
    "fpr, tpr, _ = roc_curve(y_test_1,  y_pred_proba_1)\n",
    "plt.plot(fpr, tpr, label=\"Test 1\")\n",
    "\n",
    "y_pred_proba_2 = LR_Model.predict(x_test_2)\n",
    "fpr, tpr, _ = roc_curve(y_test_2,  y_pred_proba_2)\n",
    "plt.plot(fpr, tpr, label=\"Test 2\")\n",
    "\n",
    "plt.title('ROC Logistic Regression')\n",
    "plt.legend(loc=4)\n",
    "plt.savefig('ROC Logistic Regression.png')\n",
    "plt.show()"
   ],
   "metadata": {
    "collapsed": false,
    "pycharm": {
     "name": "#%%\n"
    }
   }
  },
  {
   "cell_type": "markdown",
   "source": [
    "#Support Vector Machine Algorithm"
   ],
   "metadata": {
    "collapsed": false,
    "pycharm": {
     "name": "#%% md\n"
    }
   }
  },
  {
   "cell_type": "code",
   "execution_count": null,
   "outputs": [],
   "source": [
    "LSVC_Model = LinearSVC()\n",
    "LSVC_Model = LSVC_Model.fit(x_train, y_train)"
   ],
   "metadata": {
    "collapsed": false,
    "pycharm": {
     "name": "#%%\n"
    }
   }
  },
  {
   "cell_type": "code",
   "execution_count": null,
   "outputs": [],
   "source": [
    "svc_y_pred   = LSVC_Model.predict(x_test)\n",
    "svc_y_pred_1 = LSVC_Model.predict(x_test_1)\n",
    "svc_y_pred_2 = LSVC_Model.predict(x_test_2)"
   ],
   "metadata": {
    "collapsed": false,
    "pycharm": {
     "name": "#%%\n"
    }
   }
  },
  {
   "cell_type": "code",
   "execution_count": null,
   "outputs": [],
   "source": [
    "print('---------------------------------------------------------------------------------------')\n",
    "print(\"{:20}\\t|\\t{:20}\\t|\\t{:20}\".format('Original', 'Test 1', 'Test 2'))\n",
    "print('---------------------------------------------------------------------------------------')\n",
    "print(\"{:>15}\\t|\\t{:>15}\\t|\\t{:>15}\".format(\n",
    "    accuracy_score(y_test,   svc_y_pred)  *100, \n",
    "    accuracy_score(y_test_1, svc_y_pred_1)*100, \n",
    "    accuracy_score(y_test_2, svc_y_pred_2)*100)\n",
    ")\n",
    "print('---------------------------------------------------------------------------------------')"
   ],
   "metadata": {
    "collapsed": false,
    "pycharm": {
     "name": "#%%\n"
    }
   }
  },
  {
   "cell_type": "code",
   "execution_count": null,
   "outputs": [],
   "source": [
    "print(classification_report(y_test, svc_y_pred))"
   ],
   "metadata": {
    "collapsed": false,
    "pycharm": {
     "name": "#%%\n"
    }
   }
  },
  {
   "cell_type": "code",
   "execution_count": null,
   "outputs": [],
   "source": [
    "print(classification_report(y_test_1, svc_y_pred_1))"
   ],
   "metadata": {
    "collapsed": false,
    "pycharm": {
     "name": "#%%\n"
    }
   }
  },
  {
   "cell_type": "code",
   "execution_count": null,
   "outputs": [],
   "source": [
    "print(classification_report(y_test_2, svc_y_pred_2))"
   ],
   "metadata": {
    "collapsed": false,
    "pycharm": {
     "name": "#%%\n"
    }
   }
  },
  {
   "cell_type": "code",
   "execution_count": null,
   "outputs": [],
   "source": [
    "plt.figure(figsize=(20,10))\n",
    "sns.heatmap(confusion_matrix(y_test, svc_y_pred), annot=True, cmap='Oranges', fmt=\"d\")\n",
    "plt.title('Confusion Matrix of Data')\n",
    "plt.savefig('Confusion Matrix of Data Support Vector Machine.png')\n",
    "plt.show()"
   ],
   "metadata": {
    "collapsed": false,
    "pycharm": {
     "name": "#%%\n"
    }
   }
  },
  {
   "cell_type": "code",
   "execution_count": null,
   "outputs": [],
   "source": [
    "plt.figure(figsize=(20,10))\n",
    "sns.heatmap(confusion_matrix(y_test_1, svc_y_pred_1), annot=True, cmap='Reds', fmt=\"d\")\n",
    "plt.title('Confusion Matrix of Test 1')\n",
    "plt.savefig('Confusion Matrix of Test 1 Support Vector Machine.png')\n",
    "plt.show()"
   ],
   "metadata": {
    "collapsed": false,
    "pycharm": {
     "name": "#%%\n"
    }
   }
  },
  {
   "cell_type": "code",
   "execution_count": null,
   "outputs": [],
   "source": [
    "plt.figure(figsize=(20,10))\n",
    "sns.heatmap(confusion_matrix(y_test_2, svc_y_pred_2), annot=True, cmap='Blues', fmt=\"d\")\n",
    "plt.title('Confusion Matrix of Test 2')\n",
    "plt.savefig('Confusion Matrix of Test 2 Support Vector Machine.png')\n",
    "plt.show()"
   ],
   "metadata": {
    "collapsed": false,
    "pycharm": {
     "name": "#%%\n"
    }
   }
  },
  {
   "cell_type": "code",
   "execution_count": null,
   "outputs": [],
   "source": [
    "plt.figure(figsize=(20,10))\n",
    "\n",
    "y_pred_proba = LSVC_Model.predict(x_test)\n",
    "fpr, tpr, _ = roc_curve(y_test,  y_pred_proba)\n",
    "plt.plot(fpr, tpr, label=\"Data\")\n",
    "\n",
    "y_pred_proba_1 = LSVC_Model.predict(x_test_1)\n",
    "fpr, tpr, _ = roc_curve(y_test_1,  y_pred_proba_1)\n",
    "plt.plot(fpr, tpr, label=\"Test 1\")\n",
    "\n",
    "y_pred_proba_2 = LSVC_Model.predict(x_test_2)\n",
    "fpr, tpr, _ = roc_curve(y_test_2,  y_pred_proba_2)\n",
    "plt.plot(fpr, tpr, label=\"Test 2\")\n",
    "\n",
    "plt.title('ROC Support Vector Machine')\n",
    "plt.legend(loc=4)\n",
    "plt.savefig('ROC Support Vector Machine.png')\n",
    "plt.show()"
   ],
   "metadata": {
    "collapsed": false,
    "pycharm": {
     "name": "#%%\n"
    }
   }
  },
  {
   "cell_type": "markdown",
   "source": [
    "#Naive Bayes Algorithm"
   ],
   "metadata": {
    "collapsed": false,
    "pycharm": {
     "name": "#%% md\n"
    }
   }
  },
  {
   "cell_type": "code",
   "execution_count": null,
   "outputs": [],
   "source": [
    "GNB_Model = GaussianNB()\n",
    "GNB_Model = GNB_Model.fit(x_train, y_train)"
   ],
   "metadata": {
    "collapsed": false,
    "pycharm": {
     "name": "#%%\n"
    }
   }
  },
  {
   "cell_type": "code",
   "execution_count": null,
   "outputs": [],
   "source": [
    "gnb_y_pred   = GNB_Model.predict(x_test)\n",
    "gnb_y_pred_1 = GNB_Model.predict(x_test_1)\n",
    "gnb_y_pred_2 = GNB_Model.predict(x_test_2)"
   ],
   "metadata": {
    "collapsed": false,
    "pycharm": {
     "name": "#%%\n"
    }
   }
  },
  {
   "cell_type": "code",
   "execution_count": null,
   "outputs": [],
   "source": [
    "print('---------------------------------------------------------------------------------------')\n",
    "print(\"{:20}\\t|\\t{:20}\\t|\\t{:20}\".format('Original', 'Test 1', 'Test 2'))\n",
    "print('---------------------------------------------------------------------------------------')\n",
    "print(\"{:>15}\\t|\\t{:>15}\\t|\\t{:>15}\".format(\n",
    "    accuracy_score(y_test,   gnb_y_pred)  *100, \n",
    "    accuracy_score(y_test_1, gnb_y_pred_1)*100, \n",
    "    accuracy_score(y_test_2, gnb_y_pred_2)*100)\n",
    ")\n",
    "print('---------------------------------------------------------------------------------------')"
   ],
   "metadata": {
    "collapsed": false,
    "pycharm": {
     "name": "#%%\n"
    }
   }
  },
  {
   "cell_type": "code",
   "execution_count": null,
   "outputs": [],
   "source": [
    "print(classification_report(y_test, gnb_y_pred))"
   ],
   "metadata": {
    "collapsed": false,
    "pycharm": {
     "name": "#%%\n"
    }
   }
  },
  {
   "cell_type": "code",
   "execution_count": null,
   "outputs": [],
   "source": [
    "print(classification_report(y_test_1, gnb_y_pred_1))"
   ],
   "metadata": {
    "collapsed": false,
    "pycharm": {
     "name": "#%%\n"
    }
   }
  },
  {
   "cell_type": "code",
   "execution_count": null,
   "outputs": [],
   "source": [
    "print(classification_report(y_test_2, gnb_y_pred_2))"
   ],
   "metadata": {
    "collapsed": false,
    "pycharm": {
     "name": "#%%\n"
    }
   }
  },
  {
   "cell_type": "code",
   "execution_count": null,
   "outputs": [],
   "source": [
    "plt.figure(figsize=(20,10))\n",
    "sns.heatmap(confusion_matrix(y_test, gnb_y_pred), annot=True, cmap='Oranges', fmt=\"d\")\n",
    "plt.title('Confusion Matrix of Data')\n",
    "plt.savefig('Confusion Matrix of Data Naive Bayes.png')\n",
    "plt.show()"
   ],
   "metadata": {
    "collapsed": false,
    "pycharm": {
     "name": "#%%\n"
    }
   }
  },
  {
   "cell_type": "code",
   "execution_count": null,
   "outputs": [],
   "source": [
    "plt.figure(figsize=(20,10))\n",
    "sns.heatmap(confusion_matrix(y_test_1, gnb_y_pred_1), annot=True, cmap='Reds', fmt=\"d\")\n",
    "plt.title('Confusion Matrix of Test 1')\n",
    "plt.savefig('Confusion Matrix of Test 1 Naive Bayes.png')\n",
    "plt.show()"
   ],
   "metadata": {
    "collapsed": false,
    "pycharm": {
     "name": "#%%\n"
    }
   }
  },
  {
   "cell_type": "code",
   "execution_count": null,
   "outputs": [],
   "source": [
    "plt.figure(figsize=(20,10))\n",
    "sns.heatmap(confusion_matrix(y_test_2, gnb_y_pred_2), annot=True, cmap='Blues', fmt=\"d\")\n",
    "plt.title('Confusion Matrix of Test 2')\n",
    "plt.savefig('Confusion Matrix of Test 2 Naive Bayes.png')\n",
    "plt.show()"
   ],
   "metadata": {
    "collapsed": false,
    "pycharm": {
     "name": "#%%\n"
    }
   }
  },
  {
   "cell_type": "code",
   "execution_count": null,
   "outputs": [],
   "source": [
    "plt.figure(figsize=(20,10))\n",
    "\n",
    "y_pred_proba = GNB_Model.predict(x_test)\n",
    "fpr, tpr, _ = roc_curve(y_test,  y_pred_proba)\n",
    "plt.plot(fpr, tpr, label=\"Data\")\n",
    "\n",
    "y_pred_proba_1 = GNB_Model.predict(x_test_1)\n",
    "fpr, tpr, _ = roc_curve(y_test_1,  y_pred_proba_1)\n",
    "plt.plot(fpr, tpr, label=\"Test 1\")\n",
    "\n",
    "y_pred_proba_2 = GNB_Model.predict(x_test_2)\n",
    "fpr, tpr, _ = roc_curve(y_test_2,  y_pred_proba_2)\n",
    "plt.plot(fpr, tpr, label=\"Test 2\")\n",
    "\n",
    "plt.title('ROC Naive Bayes')\n",
    "plt.legend(loc=4)\n",
    "plt.savefig('ROC Naive Bayes.png')\n",
    "plt.show()"
   ],
   "metadata": {
    "collapsed": false,
    "pycharm": {
     "name": "#%%\n"
    }
   }
  },
  {
   "cell_type": "code",
   "source": [
    "plt.figure(figsize=(20,10))\n",
    "sns.heatmap(confusion_matrix(y_test_1, gnb_y_pred_1), annot=True, cmap='Reds', fmt=\"d\")\n",
    "plt.title('Confusion Matrix of Test 1')\n",
    "plt.savefig('Confusion Matrix of Test 1 Naive Bayes.png')\n",
    "plt.show()"
   ],
   "metadata": {
    "colab": {
     "base_uri": "https://localhost:8080/"
    },
    "id": "owXhjHwtbbB9",
    "outputId": "ae949e34-2c73-41f4-f360-d59d8bb01daf"
   },
   "execution_count": null,
   "outputs": [
    {
     "output_type": "display_data",
     "data": {
      "text/plain": [
       "<Figure size 1440x720 with 2 Axes>"
      ],
      "image/png": "[encoded data removed]"
     },
     "metadata": {
      "needs_background": "light"
     }
    }
   ]
  },
  {
   "cell_type": "code",
   "source": [
    "plt.figure(figsize=(20,10))\n",
    "sns.heatmap(confusion_matrix(y_test_2, gnb_y_pred_2), annot=True, cmap='Blues', fmt=\"d\")\n",
    "plt.title('Confusion Matrix of Test 2')\n",
    "plt.savefig('Confusion Matrix of Test 2 Naive Bayes.png')\n",
    "plt.show()"
   ],
   "metadata": {
    "colab": {
     "base_uri": "https://localhost:8080/"
    },
    "id": "fOa6CQKIbi3N",
    "outputId": "d3b180fa-1ab1-4275-947d-1fcbda9508b3"
   },
   "execution_count": null,
   "outputs": [
    {
     "output_type": "display_data",
     "data": {
      "text/plain": [
       "<Figure size 1440x720 with 2 Axes>"
      ],
      "image/png": "[encoded data removed]"
     },
     "metadata": {
      "needs_background": "light"
     }
    }
   ]
  },
  {
   "cell_type": "code",
   "source": [
    "plt.figure(figsize=(20,10))\n",
    "\n",
    "y_pred_proba = GNB_Model.predict(x_test)\n",
    "fpr, tpr, _ = roc_curve(y_test,  y_pred_proba)\n",
    "plt.plot(fpr, tpr, label=\"Data\")\n",
    "\n",
    "y_pred_proba_1 = GNB_Model.predict(x_test_1)\n",
    "fpr, tpr, _ = roc_curve(y_test_1,  y_pred_proba_1)\n",
    "plt.plot(fpr, tpr, label=\"Test 1\")\n",
    "\n",
    "y_pred_proba_2 = GNB_Model.predict(x_test_2)\n",
    "fpr, tpr, _ = roc_curve(y_test_2,  y_pred_proba_2)\n",
    "plt.plot(fpr, tpr, label=\"Test 2\")\n",
    "\n",
    "plt.title('ROC Naive Bayes')\n",
    "plt.legend(loc=4)\n",
    "plt.savefig('ROC Naive Bayes.png')\n",
    "plt.show()"
   ],
   "metadata": {
    "colab": {
     "base_uri": "https://localhost:8080/"
    },
    "id": "lYEtTAP5PxgC",
    "outputId": "c5f4b40f-1452-4c0c-aa33-192d1d22a317"
   },
   "execution_count": null,
   "outputs": [
    {
     "output_type": "display_data",
     "data": {
      "text/plain": [
       "<Figure size 1440x720 with 1 Axes>"
      ],
      "image/png": "[encoded data removed]"
     },
     "metadata": {
      "needs_background": "light"
     }
    }
   ]
  }
 ]
}